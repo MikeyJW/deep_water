{
 "cells": [
  {
   "cell_type": "code",
   "execution_count": 39,
   "metadata": {},
   "outputs": [],
   "source": [
    "import os\n",
    "import numpy as np \n",
    "import cv2"
   ]
  },
  {
   "cell_type": "code",
   "execution_count": 40,
   "metadata": {},
   "outputs": [],
   "source": [
    "def init_img(import_dir):\n",
    "    return cv2.imread(import_dir, cv2.IMREAD_GRAYSCALE)\n",
    "\n",
    "def sliding_window(image, step_size, window_size):\n",
    "    \"\"\"Slide a window across the image and yield segments\n",
    "    produced.\n",
    "    \"\"\"\n",
    "    for y in range(0, image.shape[0], step_size): \n",
    "        for x in range(0, image.shape[1], step_size):\n",
    "            segment = image[y:y + window_size[1], x:x + window_size[0]]\n",
    "            seg_size = np.size(segment)\n",
    "            # Check if segment is full-size, (not on edge of img)\n",
    "            if seg_size == (window_size[0] * window_size[1]):\n",
    "                yield segment\n",
    "\n",
    "\n",
    "def export_segments(segments, export_dir):\n",
    "    \"\"\"Export segments created to a the export directory.\n",
    "    \"\"\"\n",
    "    count_0 = 0 \n",
    "    for seg in segments:\n",
    "        count_0 += 1\n",
    "        cv2.imwrite(export_dir + 'seg' + str(count_0) + '.jpg', seg)\n",
    "        \n",
    "def get_sliding_window_segments(import_dir, export_dir,\n",
    "                                step_size, window_size):\n",
    "    \"\"\"Yield segments from a directory of images of a\n",
    "    certain size and export them to the export directory.\n",
    "    \"\"\"\n",
    "    # Iterate through all files in import directory\n",
    "    for dirname, _, filenames in os.walk(import_dir):\n",
    "        # Start count\n",
    "        count_1 = 0\n",
    "        for filename in filenames:\n",
    "            count_1 += 1\n",
    "            # Find file path for image\n",
    "            import_file_path = os.path.join(dirname, filename)\n",
    "            # Import image\n",
    "            img = init_img(import_file_path)\n",
    "            # Segment image using a sliding window\n",
    "            segments = sliding_window(img, step_size, window_size)\n",
    "            # Export the segments\n",
    "            export_segments(segments, export_dir + '/img' + str(count_1))\n",
    "            # Print update\n",
    "            print('Image ' + str(count_1) + ' segmented!')"
   ]
  },
  {
   "cell_type": "code",
   "execution_count": 41,
   "metadata": {},
   "outputs": [
    {
     "name": "stdout",
     "output_type": "stream",
     "text": [
      "Image 1 segmented!\n"
     ]
    }
   ],
   "source": [
    "import_file = '/Users/...'\n",
    "export_file = '/Users/...'\n",
    "step_size = 8\n",
    "window_size = [22, 22]\n",
    "\n",
    "get_sliding_window_segments(import_file, export_file, step_size, window_size)"
   ]
  }
 ],
 "metadata": {
  "kernelspec": {
   "display_name": "Python [conda env:deep_water]",
   "language": "python",
   "name": "conda-env-deep_water-py"
  },
  "language_info": {
   "codemirror_mode": {
    "name": "ipython",
    "version": 3
   },
   "file_extension": ".py",
   "mimetype": "text/x-python",
   "name": "python",
   "nbconvert_exporter": "python",
   "pygments_lexer": "ipython3",
   "version": "3.7.6"
  }
 },
 "nbformat": 4,
 "nbformat_minor": 2
}